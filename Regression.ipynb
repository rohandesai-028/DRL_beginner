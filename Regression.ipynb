{
  "nbformat": 4,
  "nbformat_minor": 0,
  "metadata": {
    "colab": {
      "name": "Regression.ipynb",
      "provenance": [],
      "authorship_tag": "ABX9TyNR+OdOBx9xumtTEb5WPDrs",
      "include_colab_link": true
    },
    "kernelspec": {
      "name": "python3",
      "display_name": "Python 3"
    },
    "language_info": {
      "name": "python"
    }
  },
  "cells": [
    {
      "cell_type": "markdown",
      "metadata": {
        "id": "view-in-github",
        "colab_type": "text"
      },
      "source": [
        "<a href=\"https://colab.research.google.com/github/rohandesai-028/DRL_beginner/blob/master/Regression.ipynb\" target=\"_parent\"><img src=\"https://colab.research.google.com/assets/colab-badge.svg\" alt=\"Open In Colab\"/></a>"
      ]
    },
    {
      "cell_type": "markdown",
      "metadata": {
        "id": "mXX6xfoQNtjs"
      },
      "source": [
        "# IMPORTS"
      ]
    },
    {
      "cell_type": "code",
      "metadata": {
        "id": "K3K5EufsNrWU"
      },
      "source": [
        "import pandas as pd\n",
        "import numpy as np\n",
        "import sklearn\n",
        "import matplotlib.pyplot as plt\n",
        "from sklearn import datasets, linear_model\n",
        "from sklearn.metrics import mean_squared_error, r2_score\n",
        "import math\n",
        "from sklearn.linear_model import LinearRegression\n",
        "from sklearn.model_selection import train_test_split\n",
        "from sklearn.preprocessing import PolynomialFeatures\n",
        "from sklearn.pipeline import make_pipeline"
      ],
      "execution_count": 82,
      "outputs": []
    },
    {
      "cell_type": "markdown",
      "metadata": {
        "id": "bz8RefnrNnGu"
      },
      "source": [
        "# DATA GENERATION SECTION\n",
        "\n",
        "\n"
      ]
    },
    {
      "cell_type": "code",
      "metadata": {
        "colab": {
          "base_uri": "https://localhost:8080/",
          "height": 358
        },
        "id": "J9bgKkhQ58D1",
        "outputId": "00f62302-ce40-48c9-93b0-5090a9832b36"
      },
      "source": [
        "noise   =   []\n",
        "x       =   []\n",
        "data    =   []\n",
        "t       =   []\n",
        "samples = 20\n",
        "for i in range(0,samples):\n",
        "  x.append(math.sin(2*math.pi*(i*(1/samples))))\n",
        "  noise.append(np.random.normal(0, .5))\n",
        "  t.append(i*(1/samples))\n",
        "for i in range(0,samples):\n",
        "  data.append(x[i]+noise[i])\n",
        "print(t)\n",
        "print(x)\n",
        "print(len(x))\n",
        "plt.plot(t,x)\n",
        "plt.scatter(t,data)\n",
        "print(data)"
      ],
      "execution_count": 108,
      "outputs": [
        {
          "output_type": "stream",
          "text": [
            "[0.0, 0.05, 0.1, 0.15000000000000002, 0.2, 0.25, 0.30000000000000004, 0.35000000000000003, 0.4, 0.45, 0.5, 0.55, 0.6000000000000001, 0.65, 0.7000000000000001, 0.75, 0.8, 0.8500000000000001, 0.9, 0.9500000000000001]\n",
            "[0.0, 0.3090169943749474, 0.5877852522924731, 0.8090169943749475, 0.9510565162951535, 1.0, 0.9510565162951535, 0.8090169943749475, 0.5877852522924732, 0.3090169943749475, 1.2246467991473532e-16, -0.30901699437494773, -0.5877852522924734, -0.8090169943749473, -0.9510565162951535, -1.0, -0.9510565162951536, -0.809016994374947, -0.5877852522924734, -0.3090169943749476]\n",
            "20\n",
            "[-0.19950785688372463, 0.13676483364182618, 0.3817411403167404, 1.013318995119053, 2.4434789873496654, 1.0228573263884675, 0.6355589433980389, 0.7357423771594188, 0.5943405814190851, -0.4575162531310944, 0.6009929479934835, -0.8870617545178223, 0.1638998886947517, -2.084462229349412, -1.8283887306473807, -0.8921333908288305, -0.8144110733082026, -1.2743024133848975, -0.8861786156645806, 0.05093000466508513]\n"
          ],
          "name": "stdout"
        },
        {
          "output_type": "display_data",
          "data": {
            "image/png": "[encoded data removed]",
            "text/plain": [
              "<Figure size 432x288 with 1 Axes>"
            ]
          },
          "metadata": {
            "tags": [],
            "needs_background": "light"
          }
        }
      ]
    },
    {
      "cell_type": "markdown",
      "metadata": {
        "id": "LiS05lUwN3L3"
      },
      "source": [
        "# REGRESSION(PART 1)\n",
        "Linear regression model using sklearn"
      ]
    },
    {
      "cell_type": "code",
      "metadata": {
        "id": "xoJbVdRHN7p6",
        "colab": {
          "base_uri": "https://localhost:8080/",
          "height": 283
        },
        "outputId": "dadfb6e4-223b-458a-9463-637af0097fbb"
      },
      "source": [
        "\n",
        "X_train, X_test, y_train, y_test = train_test_split(X, y, test_size = 0.3)\n",
        "regr = LinearRegression()\n",
        "  \n",
        "regr.fit(X_train, y_train)\n",
        "print('score = ',regr.score(X_test, y_test))\n",
        "\n",
        "y_pred = regr.predict(X_test)\n",
        "plt.scatter(X_test, y_test, color ='b')\n",
        "plt.plot(X_test, y_pred, color ='k')\n",
        "  \n",
        "plt.show()"
      ],
      "execution_count": 109,
      "outputs": [
        {
          "output_type": "stream",
          "text": [
            "score =  0.4684575702476543\n"
          ],
          "name": "stdout"
        },
        {
          "output_type": "display_data",
          "data": {
            "image/png": "[encoded data removed]",
            "text/plain": [
              "<Figure size 432x288 with 1 Axes>"
            ]
          },
          "metadata": {
            "tags": [],
            "needs_background": "light"
          }
        }
      ]
    },
    {
      "cell_type": "markdown",
      "metadata": {
        "id": "gPA1Pv5RPsXv"
      },
      "source": [
        "# Regression (Part 2)\n",
        "Polynomial regression"
      ]
    },
    {
      "cell_type": "code",
      "metadata": {
        "colab": {
          "base_uri": "https://localhost:8080/",
          "height": 283
        },
        "id": "OxSfN6r1Pxh8",
        "outputId": "e2c4698f-c5c9-49a6-e330-09ef4d749571"
      },
      "source": [
        "X = np.array(t).reshape(-1,1)\n",
        "y = np.array(data).reshape(-1,1)\n",
        "X_seq = np.linspace(X.min(),X.max(),300).reshape(-1,1)\n",
        "\n",
        "\n",
        "degree=9\n",
        "polyreg=make_pipeline(PolynomialFeatures(degree),LinearRegression())\n",
        "polyreg.fit(X,y)\n",
        "print('score = ',regr.score(X, y))\n",
        "\n",
        "y_pred = polyreg.predict(X_seq)\n",
        "#plt.scatter(X_train, y_train, color ='b')\n",
        "plt.plot(X_seq, y_pred, color ='k')\n",
        " \n",
        "plt.show()\n",
        "\n"
      ],
      "execution_count": 116,
      "outputs": [
        {
          "output_type": "stream",
          "text": [
            "score =  0.32495145216862764\n"
          ],
          "name": "stdout"
        },
        {
          "output_type": "display_data",
          "data": {
            "image/png": "[encoded data removed]",
            "text/plain": [
              "<Figure size 432x288 with 1 Axes>"
            ]
          },
          "metadata": {
            "tags": [],
            "needs_background": "light"
          }
        }
      ]
    }
  ]
}