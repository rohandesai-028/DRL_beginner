{
  "nbformat": 4,
  "nbformat_minor": 0,
  "metadata": {
    "colab": {
      "name": "Regression.ipynb",
      "provenance": [],
      "authorship_tag": "ABX9TyMC+p83OPtMLRKvLlU3hnwW",
      "include_colab_link": true
    },
    "kernelspec": {
      "name": "python3",
      "display_name": "Python 3"
    },
    "language_info": {
      "name": "python"
    }
  },
  "cells": [
    {
      "cell_type": "markdown",
      "metadata": {
        "id": "view-in-github",
        "colab_type": "text"
      },
      "source": [
        "<a href=\"https://colab.research.google.com/github/rohandesai-028/DRL_beginner/blob/master/Regression.ipynb\" target=\"_parent\"><img src=\"https://colab.research.google.com/assets/colab-badge.svg\" alt=\"Open In Colab\"/></a>"
      ]
    },
    {
      "cell_type": "markdown",
      "metadata": {
        "id": "mXX6xfoQNtjs"
      },
      "source": [
        "# IMPORTS"
      ]
    },
    {
      "cell_type": "code",
      "metadata": {
        "id": "K3K5EufsNrWU"
      },
      "source": [
        "import pandas as pd\n",
        "import numpy as np\n",
        "import math\n",
        "from sklearn.linear_model import LinearRegression\n",
        "from sklearn.preprocessing import PolynomialFeatures\n",
        "poly_features = PolynomialFeatures(degree=2, include_bias=False)"
      ],
      "execution_count": null,
      "outputs": []
    },
    {
      "cell_type": "markdown",
      "metadata": {
        "id": "bz8RefnrNnGu"
      },
      "source": [
        "# DATA GENERATION SECTION\n",
        "\n",
        "\n"
      ]
    },
    {
      "cell_type": "code",
      "metadata": {
        "colab": {
          "base_uri": "https://localhost:8080/"
        },
        "id": "J9bgKkhQ58D1",
        "outputId": "26207751-c8ec-40c4-90b5-af92f48de0dc"
      },
      "source": [
        "noise   =   []\n",
        "x       =   []\n",
        "data    =   []\n",
        "for i in range(0,10):\n",
        "  x.append(2*math.pi*(i*0.1))\n",
        "  noise.append(np.random.normal(0, .5))\n",
        "for i in range(0,10):\n",
        "  data.append(x[i]+noise[i])\n",
        "print(x)\n",
        "print(data)"
      ],
      "execution_count": null,
      "outputs": [
        {
          "output_type": "stream",
          "text": [
            "[0.0, 0.6283185307179586, 1.2566370614359172, 1.884955592153876, 2.5132741228718345, 3.141592653589793, 3.769911184307752, 4.39822971502571, 5.026548245743669, 5.654866776461628]\n",
            "[0.2091948934486372, 0.28960963866294026, 0.8957127844431264, 2.122652709562149, 2.388672786034435, 3.1687695709911883, 2.9021505522641324, 3.9927620277481624, 5.29730067708737, 5.639872701622776]\n"
          ],
          "name": "stdout"
        }
      ]
    },
    {
      "cell_type": "markdown",
      "metadata": {
        "id": "LiS05lUwN3L3"
      },
      "source": [
        "# REGRESSION(PART 1)"
      ]
    },
    {
      "cell_type": "code",
      "metadata": {
        "id": "xoJbVdRHN7p6"
      },
      "source": [
        ""
      ],
      "execution_count": null,
      "outputs": []
    }
  ]
}